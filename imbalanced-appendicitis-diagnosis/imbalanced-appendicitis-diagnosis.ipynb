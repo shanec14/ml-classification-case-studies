{
 "cells": [
  {
   "cell_type": "code",
   "execution_count": 129,
   "metadata": {},
   "outputs": [],
   "source": [
    "import pandas as pd\n",
    "\n",
    "from sklearn.model_selection import train_test_split, StratifiedKFold, GridSearchCV, cross_validate\n",
    "from sklearn.neighbors import KNeighborsClassifier\n",
    "from sklearn.tree import DecisionTreeClassifier\n",
    "from sklearn.metrics import classification_report, make_scorer, f1_score, recall_score, ConfusionMatrixDisplay\n",
    "from sklearn.preprocessing import StandardScaler\n",
    "\n",
    "\n",
    "from imblearn.over_sampling import SMOTE, RandomOverSampler\n",
    "from imblearn.under_sampling import NearMiss\n",
    "from imblearn.pipeline import Pipeline\n",
    "\n",
    "import matplotlib.pyplot as plt"
   ]
  },
  {
   "cell_type": "markdown",
   "metadata": {},
   "source": [
    "# Requirement 1"
   ]
  },
  {
   "cell_type": "code",
   "execution_count": 3,
   "metadata": {},
   "outputs": [],
   "source": [
    "# Load the dataset\n",
    "appendicitis_data = pd.read_csv('appendicitis.csv')"
   ]
  },
  {
   "cell_type": "code",
   "execution_count": 4,
   "metadata": {},
   "outputs": [
    {
     "data": {
      "text/html": [
       "<div>\n",
       "<style scoped>\n",
       "    .dataframe tbody tr th:only-of-type {\n",
       "        vertical-align: middle;\n",
       "    }\n",
       "\n",
       "    .dataframe tbody tr th {\n",
       "        vertical-align: top;\n",
       "    }\n",
       "\n",
       "    .dataframe thead th {\n",
       "        text-align: right;\n",
       "    }\n",
       "</style>\n",
       "<table border=\"1\" class=\"dataframe\">\n",
       "  <thead>\n",
       "    <tr style=\"text-align: right;\">\n",
       "      <th></th>\n",
       "      <th>Unnamed: 0</th>\n",
       "      <th>Age</th>\n",
       "      <th>BMI</th>\n",
       "      <th>Sex</th>\n",
       "      <th>Height</th>\n",
       "      <th>Weight</th>\n",
       "      <th>Length_of_Stay</th>\n",
       "      <th>Alvarado_Score</th>\n",
       "      <th>Paedriatic_Appendicitis_Score</th>\n",
       "      <th>Appendix_on_US</th>\n",
       "      <th>Migratory_Pain</th>\n",
       "      <th>Lower_Right_Abd_Pain</th>\n",
       "      <th>Contralateral_Rebound_Tenderness</th>\n",
       "      <th>Coughing_Pain</th>\n",
       "      <th>Nausea</th>\n",
       "      <th>Loss_of_Appetite</th>\n",
       "      <th>Body_Temperature</th>\n",
       "      <th>WBC_Count</th>\n",
       "      <th>Dysuria</th>\n",
       "      <th>Diagnosis</th>\n",
       "    </tr>\n",
       "  </thead>\n",
       "  <tbody>\n",
       "    <tr>\n",
       "      <th>0</th>\n",
       "      <td>0</td>\n",
       "      <td>12.68</td>\n",
       "      <td>16.90</td>\n",
       "      <td>1</td>\n",
       "      <td>148.0</td>\n",
       "      <td>37.0</td>\n",
       "      <td>3.0</td>\n",
       "      <td>4.0</td>\n",
       "      <td>3.0</td>\n",
       "      <td>1</td>\n",
       "      <td>0</td>\n",
       "      <td>1</td>\n",
       "      <td>1</td>\n",
       "      <td>0</td>\n",
       "      <td>0</td>\n",
       "      <td>1</td>\n",
       "      <td>37.0</td>\n",
       "      <td>7.7</td>\n",
       "      <td>0</td>\n",
       "      <td>appendicitis</td>\n",
       "    </tr>\n",
       "    <tr>\n",
       "      <th>1</th>\n",
       "      <td>672</td>\n",
       "      <td>10.21</td>\n",
       "      <td>15.59</td>\n",
       "      <td>1</td>\n",
       "      <td>145.5</td>\n",
       "      <td>33.0</td>\n",
       "      <td>7.0</td>\n",
       "      <td>9.0</td>\n",
       "      <td>8.0</td>\n",
       "      <td>0</td>\n",
       "      <td>1</td>\n",
       "      <td>1</td>\n",
       "      <td>0</td>\n",
       "      <td>0</td>\n",
       "      <td>1</td>\n",
       "      <td>1</td>\n",
       "      <td>38.4</td>\n",
       "      <td>17.0</td>\n",
       "      <td>0</td>\n",
       "      <td>appendicitis</td>\n",
       "    </tr>\n",
       "    <tr>\n",
       "      <th>2</th>\n",
       "      <td>671</td>\n",
       "      <td>7.55</td>\n",
       "      <td>16.76</td>\n",
       "      <td>1</td>\n",
       "      <td>136.0</td>\n",
       "      <td>31.0</td>\n",
       "      <td>3.0</td>\n",
       "      <td>5.0</td>\n",
       "      <td>3.0</td>\n",
       "      <td>1</td>\n",
       "      <td>0</td>\n",
       "      <td>1</td>\n",
       "      <td>0</td>\n",
       "      <td>0</td>\n",
       "      <td>0</td>\n",
       "      <td>0</td>\n",
       "      <td>37.8</td>\n",
       "      <td>16.1</td>\n",
       "      <td>0</td>\n",
       "      <td>appendicitis</td>\n",
       "    </tr>\n",
       "    <tr>\n",
       "      <th>3</th>\n",
       "      <td>670</td>\n",
       "      <td>14.79</td>\n",
       "      <td>23.23</td>\n",
       "      <td>0</td>\n",
       "      <td>166.0</td>\n",
       "      <td>64.0</td>\n",
       "      <td>4.0</td>\n",
       "      <td>7.0</td>\n",
       "      <td>8.0</td>\n",
       "      <td>1</td>\n",
       "      <td>1</td>\n",
       "      <td>1</td>\n",
       "      <td>0</td>\n",
       "      <td>1</td>\n",
       "      <td>1</td>\n",
       "      <td>0</td>\n",
       "      <td>36.8</td>\n",
       "      <td>20.6</td>\n",
       "      <td>0</td>\n",
       "      <td>appendicitis</td>\n",
       "    </tr>\n",
       "    <tr>\n",
       "      <th>4</th>\n",
       "      <td>669</td>\n",
       "      <td>9.66</td>\n",
       "      <td>16.22</td>\n",
       "      <td>0</td>\n",
       "      <td>149.0</td>\n",
       "      <td>36.0</td>\n",
       "      <td>4.0</td>\n",
       "      <td>10.0</td>\n",
       "      <td>10.0</td>\n",
       "      <td>1</td>\n",
       "      <td>1</td>\n",
       "      <td>1</td>\n",
       "      <td>1</td>\n",
       "      <td>1</td>\n",
       "      <td>1</td>\n",
       "      <td>1</td>\n",
       "      <td>38.0</td>\n",
       "      <td>19.9</td>\n",
       "      <td>0</td>\n",
       "      <td>appendicitis</td>\n",
       "    </tr>\n",
       "  </tbody>\n",
       "</table>\n",
       "</div>"
      ],
      "text/plain": [
       "   Unnamed: 0    Age    BMI  Sex  Height  Weight  Length_of_Stay  \\\n",
       "0           0  12.68  16.90    1   148.0    37.0             3.0   \n",
       "1         672  10.21  15.59    1   145.5    33.0             7.0   \n",
       "2         671   7.55  16.76    1   136.0    31.0             3.0   \n",
       "3         670  14.79  23.23    0   166.0    64.0             4.0   \n",
       "4         669   9.66  16.22    0   149.0    36.0             4.0   \n",
       "\n",
       "   Alvarado_Score  Paedriatic_Appendicitis_Score  Appendix_on_US  \\\n",
       "0             4.0                            3.0               1   \n",
       "1             9.0                            8.0               0   \n",
       "2             5.0                            3.0               1   \n",
       "3             7.0                            8.0               1   \n",
       "4            10.0                           10.0               1   \n",
       "\n",
       "   Migratory_Pain  Lower_Right_Abd_Pain  Contralateral_Rebound_Tenderness  \\\n",
       "0               0                     1                                 1   \n",
       "1               1                     1                                 0   \n",
       "2               0                     1                                 0   \n",
       "3               1                     1                                 0   \n",
       "4               1                     1                                 1   \n",
       "\n",
       "   Coughing_Pain  Nausea  Loss_of_Appetite  Body_Temperature  WBC_Count  \\\n",
       "0              0       0                 1              37.0        7.7   \n",
       "1              0       1                 1              38.4       17.0   \n",
       "2              0       0                 0              37.8       16.1   \n",
       "3              1       1                 0              36.8       20.6   \n",
       "4              1       1                 1              38.0       19.9   \n",
       "\n",
       "   Dysuria     Diagnosis  \n",
       "0        0  appendicitis  \n",
       "1        0  appendicitis  \n",
       "2        0  appendicitis  \n",
       "3        0  appendicitis  \n",
       "4        0  appendicitis  "
      ]
     },
     "execution_count": 4,
     "metadata": {},
     "output_type": "execute_result"
    }
   ],
   "source": [
    "appendicitis_data.head()\n"
   ]
  },
  {
   "cell_type": "code",
   "execution_count": 5,
   "metadata": {},
   "outputs": [
    {
     "name": "stdout",
     "output_type": "stream",
     "text": [
      "Dataset Info:\n",
      "\n",
      "<class 'pandas.core.frame.DataFrame'>\n",
      "RangeIndex: 631 entries, 0 to 630\n",
      "Data columns (total 20 columns):\n",
      " #   Column                            Non-Null Count  Dtype  \n",
      "---  ------                            --------------  -----  \n",
      " 0   Unnamed: 0                        631 non-null    int64  \n",
      " 1   Age                               631 non-null    float64\n",
      " 2   BMI                               631 non-null    float64\n",
      " 3   Sex                               631 non-null    int64  \n",
      " 4   Height                            631 non-null    float64\n",
      " 5   Weight                            631 non-null    float64\n",
      " 6   Length_of_Stay                    631 non-null    float64\n",
      " 7   Alvarado_Score                    631 non-null    float64\n",
      " 8   Paedriatic_Appendicitis_Score     631 non-null    float64\n",
      " 9   Appendix_on_US                    631 non-null    int64  \n",
      " 10  Migratory_Pain                    631 non-null    int64  \n",
      " 11  Lower_Right_Abd_Pain              631 non-null    int64  \n",
      " 12  Contralateral_Rebound_Tenderness  631 non-null    int64  \n",
      " 13  Coughing_Pain                     631 non-null    int64  \n",
      " 14  Nausea                            631 non-null    int64  \n",
      " 15  Loss_of_Appetite                  631 non-null    int64  \n",
      " 16  Body_Temperature                  631 non-null    float64\n",
      " 17  WBC_Count                         631 non-null    float64\n",
      " 18  Dysuria                           631 non-null    int64  \n",
      " 19  Diagnosis                         631 non-null    object \n",
      "dtypes: float64(9), int64(10), object(1)\n",
      "memory usage: 98.7+ KB\n",
      "None\n"
     ]
    }
   ],
   "source": [
    "# Display basic info and first few rows to explore the dataset\n",
    "print(\"Dataset Info:\\n\")\n",
    "print(appendicitis_data.info())"
   ]
  },
  {
   "cell_type": "code",
   "execution_count": 6,
   "metadata": {},
   "outputs": [
    {
     "name": "stdout",
     "output_type": "stream",
     "text": [
      "\n",
      "Class Distribution:\n",
      " Diagnosis\n",
      "appendicitis       0.618067\n",
      "no appendicitis    0.381933\n",
      "Name: proportion, dtype: float64\n"
     ]
    }
   ],
   "source": [
    "# Check class distribution to assess imbalance\n",
    "class_distribution = appendicitis_data['Diagnosis'].value_counts(normalize=True)\n",
    "print(\"\\nClass Distribution:\\n\", class_distribution)"
   ]
  },
  {
   "cell_type": "markdown",
   "metadata": {},
   "source": [
    "It is clear there is a target class imbalance, with 61.8% of the data with diagnosis appendicitis"
   ]
  },
  {
   "cell_type": "code",
   "execution_count": 7,
   "metadata": {},
   "outputs": [],
   "source": [
    "# Covert the target variable 'Diagnosis' to binary\n",
    "appendicitis_data['Diagnosis'] = appendicitis_data['Diagnosis'].map({'appendicitis': 1, 'no appendicitis': 0})"
   ]
  },
  {
   "cell_type": "code",
   "execution_count": 8,
   "metadata": {},
   "outputs": [
    {
     "name": "stdout",
     "output_type": "stream",
     "text": [
      "Number of NaNs in 'Diagnosis' column: 0\n"
     ]
    }
   ],
   "source": [
    "# Check for NaNs in the 'Diagnosis' column\n",
    "nans_in_diagnosis = appendicitis_data['Diagnosis'].isna().sum()\n",
    "print(\"Number of NaNs in 'Diagnosis' column:\", nans_in_diagnosis)"
   ]
  },
  {
   "cell_type": "code",
   "execution_count": 9,
   "metadata": {},
   "outputs": [],
   "source": [
    "# Define features (X) and target (y)\n",
    "X = appendicitis_data.drop(columns=['Unnamed: 0', 'Diagnosis'])  # Drop unnecessary columns\n",
    "y = appendicitis_data['Diagnosis']"
   ]
  },
  {
   "cell_type": "code",
   "execution_count": 49,
   "metadata": {},
   "outputs": [],
   "source": [
    "# Split the data into training and test sets\n",
    "# X_train, X_test, y_train, y_test = train_test_split(X, y, test_size=0.3, random_state=42, stratify=y)\n",
    "X_train, X_test, y_train, y_test = train_test_split(X, y, test_size=0.3, random_state=42)"
   ]
  },
  {
   "cell_type": "code",
   "execution_count": 50,
   "metadata": {},
   "outputs": [],
   "source": [
    "# Standardise the features for kNN\n",
    "scaler = StandardScaler()\n",
    "X_train_scaled = scaler.fit_transform(X_train)\n",
    "X_test_scaled = scaler.transform(X_test)\n",
    "X_scaled = scaler.fit_transform(X)"
   ]
  },
  {
   "cell_type": "code",
   "execution_count": 51,
   "metadata": {},
   "outputs": [
    {
     "data": {
      "image/png": "[encoded data removed]",
      "text/plain": [
       "<Figure size 640x480 with 2 Axes>"
      ]
     },
     "metadata": {},
     "output_type": "display_data"
    },
    {
     "name": "stdout",
     "output_type": "stream",
     "text": [
      "Classification Report for k-NN:\n",
      "\n",
      "                 precision    recall  f1-score   support\n",
      "\n",
      "no appendicitis       0.62      0.62      0.62        64\n",
      "   appendicitis       0.81      0.80      0.80       126\n",
      "\n",
      "       accuracy                           0.74       190\n",
      "      macro avg       0.71      0.71      0.71       190\n",
      "   weighted avg       0.74      0.74      0.74       190\n",
      "\n"
     ]
    }
   ],
   "source": [
    "# Initialise k-NN classifiers\n",
    "knn = KNeighborsClassifier(n_neighbors=5)\n",
    "\n",
    "# Train and evaluate kNN\n",
    "knn.fit(X_train_scaled, y_train)\n",
    "knn_predictions = knn.predict(X_test_scaled)\n",
    "\n",
    "# Confusion matrix for k-NN\n",
    "ConfusionMatrixDisplay.from_estimator(knn, X_test_scaled, y_test, display_labels=['no appendicitis', 'appendicitis'])\n",
    "plt.title(\"Confusion Matrix for k-NN\")\n",
    "plt.show()\n",
    "\n",
    "print(\"Classification Report for k-NN:\\n\")\n",
    "print(classification_report(y_test, knn_predictions, target_names=['no appendicitis', 'appendicitis']))"
   ]
  },
  {
   "cell_type": "markdown",
   "metadata": {},
   "source": [
    "Comparing the key evaluation metrics, precision, recall, and F1-score for the kNN model reveals a clear bias toward the majority class, \"appendicitis,\" as it performs more accurately for this class. Specifically, the \"no appendicitis\" class has a precision of 0.62 compared to 0.81 for appendicitis, a recall of 0.62 versus 0.80, and an F1-score of 0.62 versus 0.80. These discrepancies highlight the model’s struggle to correctly classify instances of the minority class no appendicitis, highlighting its tendency to favor the majority class in predictions. The overall accuracy metric isnt considered as much as it just give a general view of the model.\n",
    "\n",
    "A key metric in this analysis is the F1-score for each class, as it combines both precision and recall into a single value, providing a balanced measure of performance. \n",
    "\n",
    "The other key metric is Recall.  Improving high recall for the \"no appendicitis\" class is important because it’s underrepresented as the minority class. In imbalanced datasets, models often develop a bias toward the majority class, making it harder to correctly identify positive cases in the minority class. Boosting recall for \"no appendicitis\" helps address this bias, ensuring that true \"no appendicitis\" cases are not overlooked, even with their lower representation.\n",
    "\n",
    "Conversely, high recall for the \"appendicitis\" class is essential to minimise false negatives, as missing actual cases of appendicitis can lead to severe complications if untreated. Balancing recall for both classes ensures that the model effectively identifies true cases of appendicitis while preventing over-diagnosis in the minority \"no appendicitis\" group.\n",
    "\n",
    "Therefore the key metrics that will be looked at it no appendicitis F1 score and recall, appendicitis recall and overall F1 score"
   ]
  },
  {
   "cell_type": "code",
   "execution_count": 136,
   "metadata": {},
   "outputs": [
    {
     "data": {
      "image/png": "[encoded data removed]",
      "text/plain": [
       "<Figure size 640x480 with 2 Axes>"
      ]
     },
     "metadata": {},
     "output_type": "display_data"
    },
    {
     "name": "stdout",
     "output_type": "stream",
     "text": [
      "Classification Report for Decision Tree:\n",
      "\n",
      "                 precision    recall  f1-score   support\n",
      "\n",
      "no appendicitis       0.70      0.59      0.64        64\n",
      "   appendicitis       0.81      0.87      0.84       126\n",
      "\n",
      "       accuracy                           0.78       190\n",
      "      macro avg       0.76      0.73      0.74       190\n",
      "   weighted avg       0.77      0.78      0.77       190\n",
      "\n"
     ]
    }
   ],
   "source": [
    "# Initialise Decision Tree classifiers\n",
    "decision_tree = DecisionTreeClassifier(random_state=42)\n",
    "\n",
    "# Train and evaluate Decsion Tree\n",
    "decision_tree.fit(X_train, y_train)\n",
    "dt_predictions = decision_tree.predict(X_test)\n",
    "\n",
    "ConfusionMatrixDisplay.from_estimator(decision_tree, X_test, y_test, display_labels=['no appendicitis', 'appendicitis'])\n",
    "plt.title(\"Confusion Matrix for Decision Tree\")\n",
    "plt.show()\n",
    "\n",
    "print(\"Classification Report for Decision Tree:\\n\")\n",
    "print(classification_report(y_test, dt_predictions, target_names=['no appendicitis', 'appendicitis']))"
   ]
  },
  {
   "cell_type": "markdown",
   "metadata": {},
   "source": [
    "Comparing the key evaluation metrics, precision, recall, and F1-score for the Decision Tree model reveals a clear bias toward the majority class, \"appendicitis,\" as it performs more accurately for this class. Specifically, the \"no appendicitis\" class has a precision of 0.7 compared to 0.81 for appendicitis, a recall of 0.59 versus 0.87, and an F1-score of 0.64 versus 0.84. These discrepancies highlight the model’s struggle to correctly classify instances of the minority class no appendicitis, highlighting its tendency to favor the majority class in predictions. \n",
    "\n",
    "For the same reasons as in the KNN model,  the key metrics that will be looked at it no appendicitis F1 score and recall, appendicitis recall and overall F1 score"
   ]
  },
  {
   "cell_type": "markdown",
   "metadata": {},
   "source": [
    "### Setting up Cross validation scoring and printing function"
   ]
  },
  {
   "cell_type": "markdown",
   "metadata": {},
   "source": [
    "Cross Validation is performed to get a low variance measurement of the key performance metrics for each classifier, in order to evaluate if the strategies work in combating the imbalance in the classes"
   ]
  },
  {
   "cell_type": "code",
   "execution_count": 118,
   "metadata": {},
   "outputs": [],
   "source": [
    "# Define custom scoring for F1 and Recall for each class\n",
    "scoring = {\n",
    "    'f1_no_appendicitis': make_scorer(f1_score, pos_label=0, average='binary'),           # F1 for 'no appendicitis'\n",
    "    'recall_no_appendicitis': make_scorer(recall_score, pos_label=0, average='binary'),   # Recall for 'no appendicitis'\n",
    "    'recall_appendicitis': make_scorer(recall_score, pos_label=1, average='binary'),      # Recall for 'appendicitis'\n",
    "    'f1_macro': make_scorer(f1_score, average='macro')                                    # Overall (macro-averaged) F1 score\n",
    "}\n"
   ]
  },
  {
   "cell_type": "markdown",
   "metadata": {},
   "source": [
    "These metrics were chosen to mitigate the imbalance of the classifiers, while also keeping overall high recall for the appendicitis class"
   ]
  },
  {
   "cell_type": "code",
   "execution_count": 137,
   "metadata": {},
   "outputs": [],
   "source": [
    "def display_cv_scores(cv_results, num_folds=5):\n",
    "    \"\"\"\n",
    "    Displays cross-validation scores with average values appended.\n",
    "\n",
    "    Parameters:\n",
    "    - cv_results (dict): Dictionary containing cross-validation results.\n",
    "    - num_folds (int): Number of folds used in cross-validation.\n",
    "\n",
    "    Returns:\n",
    "    - None\n",
    "    \"\"\"\n",
    "    # Create DataFrame with fold scores\n",
    "    scores_df = pd.DataFrame({\n",
    "        'Fold': range(1, num_folds + 1),\n",
    "        'F1 no appendicitis': cv_results['test_f1_no_appendicitis'],\n",
    "        'Recall no appendicitis': cv_results['test_recall_no_appendicitis'],\n",
    "        'Recall appendicitis': cv_results['test_recall_appendicitis'],\n",
    "        'Overall F1 (Macro)': cv_results['test_f1_macro']\n",
    "    })\n",
    "\n",
    "    # Calculate and append the average scores\n",
    "    avg_scores = scores_df.mean().to_frame().T\n",
    "    avg_scores['Fold'] = 'Average'\n",
    "    scores_df = pd.concat([scores_df, avg_scores], ignore_index=True)\n",
    "\n",
    "\n",
    "    # Display the scores without the index\n",
    "    print(\"F1 and Recall Scores for Each Class and Overall F1 (Macro):\")\n",
    "    print(scores_df.to_string(index=False))"
   ]
  },
  {
   "cell_type": "markdown",
   "metadata": {},
   "source": [
    "### Cross Validation for each model"
   ]
  },
  {
   "cell_type": "code",
   "execution_count": 120,
   "metadata": {},
   "outputs": [
    {
     "name": "stdout",
     "output_type": "stream",
     "text": [
      "F1 and Recall Scores for Each Class and Overall F1 (Macro):\n",
      "   Fold  F1 no appendicitis  Recall no appendicitis  Recall appendicitis  Overall F1 (Macro)\n",
      "      1            0.560976                0.469388             0.871795            0.675837\n",
      "      2            0.564706                0.500000             0.833333            0.671574\n",
      "      3            0.643678                0.583333             0.858974            0.727900\n",
      "      4            0.701031                0.708333             0.807692            0.756967\n",
      "      5            0.704545                0.645833             0.884615            0.773004\n",
      "Average            0.634987                0.581378             0.851282            0.721056\n"
     ]
    }
   ],
   "source": [
    "#KNN Classifier - Cross valdiaiton on basic imbalanced model\n",
    "\n",
    "knn_classifier = KNeighborsClassifier(n_neighbors=5)\n",
    "\n",
    "\n",
    "# Define the pipeline with StandardScaler for scaling and KNN for classification\n",
    "pipeline = Pipeline([\n",
    "    ('scaler', StandardScaler()),             # Standard scaling\n",
    "    ('classifier', knn_classifier)            # KNN classifier\n",
    "])\n",
    "\n",
    "# Define stratified k-fold cross-validation - key for an imbalanced data-set\n",
    "cv = StratifiedKFold(n_splits=5, shuffle=True, random_state=42)\n",
    "\n",
    "# Perform stratified cross-validation and calculate F1 and Recall for each class\n",
    "cv_results = cross_validate(pipeline, X, y, cv=cv, scoring=scoring)\n",
    "\n",
    "# Call predefined fucntion to Display dataframe of results\n",
    "display_cv_scores(cv_results, num_folds=5)"
   ]
  },
  {
   "cell_type": "code",
   "execution_count": 121,
   "metadata": {},
   "outputs": [
    {
     "name": "stdout",
     "output_type": "stream",
     "text": [
      "F1 and Recall Scores for Each Class and Overall F1 (Macro):\n",
      "   Fold  F1 no appendicitis  Recall no appendicitis  Recall appendicitis  Overall F1 (Macro)\n",
      "      1            0.694737                0.673469             0.833333            0.756173\n",
      "      2            0.680412                0.687500             0.794872            0.740206\n",
      "      3            0.686275                0.729167             0.756410            0.736471\n",
      "      4            0.721649                0.729167             0.820513            0.773728\n",
      "      5            0.617021                0.604167             0.782051            0.694587\n",
      "Average            0.680019                0.684694             0.797436            0.740233\n"
     ]
    }
   ],
   "source": [
    "#Decision Tree Classifier - Cross valdiaiton on basic imbalanced model\n",
    "\n",
    "decision_tree = DecisionTreeClassifier(random_state=42)\n",
    "\n",
    "# Set up Stratified K-Fold cross-validation - key for an imbalanced data-set\n",
    "cv = StratifiedKFold(n_splits=5, shuffle=True, random_state=42)\n",
    "\n",
    "# Perform stratified cross-validation and calculate F1 and Recall for each class\n",
    "cv_results = cross_validate(decision_tree, X, y, cv=cv, scoring=scoring)\n",
    "\n",
    "# Call predefined fucntion to Display dataframe of results\n",
    "display_cv_scores(cv_results, num_folds=5)\n"
   ]
  },
  {
   "cell_type": "markdown",
   "metadata": {},
   "source": [
    "These average values are more robust and low variance than the training split values, and will be used for as a baseline performance for the classifiers"
   ]
  },
  {
   "cell_type": "markdown",
   "metadata": {},
   "source": [
    "# Requirment 2"
   ]
  },
  {
   "cell_type": "markdown",
   "metadata": {},
   "source": [
    "### Decision Tree Classifier Strategies"
   ]
  },
  {
   "cell_type": "markdown",
   "metadata": {},
   "source": [
    "**Strategy 1:** Ajust class weights in classifier\n",
    "\n",
    "The strategy here is to automatically assign a higher weight to the minority class, helping the model focus more on correctly classifying minority samples.\n"
   ]
  },
  {
   "cell_type": "code",
   "execution_count": 122,
   "metadata": {},
   "outputs": [],
   "source": [
    "decision_tree_balanced = DecisionTreeClassifier(class_weight='balanced', random_state=42)"
   ]
  },
  {
   "cell_type": "code",
   "execution_count": 123,
   "metadata": {},
   "outputs": [
    {
     "name": "stdout",
     "output_type": "stream",
     "text": [
      "F1 and Recall Scores for Each Class and Overall F1 (Macro):\n",
      "   Fold  F1 no appendicitis  Recall no appendicitis  Recall appendicitis  Overall F1 (Macro)\n",
      "      1            0.652632                0.632653             0.807692            0.722542\n",
      "      2            0.692308                0.750000             0.743590            0.738046\n",
      "      3            0.730769                0.791667             0.769231            0.770790\n",
      "      4            0.775510                0.791667             0.846154            0.816327\n",
      "      5            0.645161                0.625000             0.807692            0.718807\n",
      "Average            0.699276                0.718197             0.794872            0.753302\n"
     ]
    }
   ],
   "source": [
    "\n",
    "cv = StratifiedKFold(n_splits=5, shuffle=True, random_state=42)\n",
    "\n",
    "# Perform stratified cross-validation and calculate F1 and Recall for each class\n",
    "cv_results = cross_validate(decision_tree_balanced, X, y, cv=cv, scoring=scoring)\n",
    "\n",
    "# Call predefined fucntion to Display dataframe of results\n",
    "display_cv_scores(cv_results, num_folds=5)"
   ]
  },
  {
   "cell_type": "markdown",
   "metadata": {},
   "source": [
    "This yielded a small increase in all metrics, mostly effecting the no appendicitis class."
   ]
  },
  {
   "cell_type": "markdown",
   "metadata": {},
   "source": [
    "**Strategy 2:** resampling using imbalanced-learn library\n",
    "\n",
    "This strategy applies SMOTE to the training set, creating diverse synthetic samples that better capture natural class distributions and reduce overfitting. "
   ]
  },
  {
   "cell_type": "code",
   "execution_count": 101,
   "metadata": {},
   "outputs": [
    {
     "name": "stdout",
     "output_type": "stream",
     "text": [
      "F1 and Recall Scores for Each Class and Overall F1 (Macro):\n",
      "   Fold  F1 no appendicitis  Recall no appendicitis  Recall appendicitis  Overall F1 (Macro)\n",
      "      1            0.714286                0.714286             0.820513            0.767399\n",
      "      2            0.787879                0.812500             0.846154            0.825312\n",
      "      3            0.693069                0.729167             0.769231            0.743886\n",
      "      4            0.727273                0.750000             0.807692            0.775401\n",
      "      5            0.615385                0.666667             0.692308            0.672557\n",
      "Average            0.707578                0.734524             0.787179            0.756911\n"
     ]
    }
   ],
   "source": [
    "# Define the pipeline with SMOTE for oversampling and the Decision Tree classifier\n",
    "pipeline = Pipeline([\n",
    "    ('smote', SMOTE(random_state=42)),  # Apply SMOTE to balance classes in training\n",
    "    ('classifier', decision_tree_balanced)\n",
    "])\n",
    "\n",
    "cv = StratifiedKFold(n_splits=5, shuffle=True, random_state=42)\n",
    "\n",
    "# Perform stratified cross-validation and calculate F1 and Recall for each class\n",
    "cv_results = cross_validate(pipeline, X, y, cv=cv, scoring=scoring)\n",
    "\n",
    "# Call predefined fucntion to Display dataframe of results\n",
    "display_cv_scores(cv_results, num_folds=5)\n"
   ]
  },
  {
   "cell_type": "markdown",
   "metadata": {},
   "source": [
    "This yielded a small increase in all metrics, mostly effecting the no appendicitis class."
   ]
  },
  {
   "cell_type": "markdown",
   "metadata": {},
   "source": [
    "**Strategy 3:** Optimise Classifier with GridSearch"
   ]
  },
  {
   "cell_type": "code",
   "execution_count": 133,
   "metadata": {},
   "outputs": [
    {
     "name": "stdout",
     "output_type": "stream",
     "text": [
      "Best parameters found for optimising recall of 'no appendicitis':\n",
      "{'classifier__max_depth': 5, 'classifier__min_samples_leaf': 4, 'classifier__min_samples_split': 2}\n",
      "\n",
      "\n",
      "F1 and Recall Scores for Each Class and Overall F1 (Macro):\n",
      "   Fold  F1 no appendicitis  Recall no appendicitis  Recall appendicitis  Overall F1 (Macro)\n",
      "      1            0.727273                0.653061             0.910256            0.791347\n",
      "      2            0.717391                0.687500             0.858974            0.777446\n",
      "      3            0.714286                0.625000             0.923077            0.785714\n",
      "      4            0.772277                0.812500             0.820513            0.809980\n",
      "      5            0.651685                0.604167             0.846154            0.730751\n",
      "Average            0.716582                0.676446             0.871795            0.779047\n"
     ]
    }
   ],
   "source": [
    "\n",
    "\n",
    "# Define the pipeline with SMOTE for resampling and the Decision Tree classifier\n",
    "pipeline = Pipeline([\n",
    "    ('resample', SMOTE(random_state=42)),  # Apply SMOTETomek to balance classes\n",
    "    ('classifier', decision_tree_balanced)\n",
    "])\n",
    "\n",
    "# Set up grid search for hyperparameter tuning with recall as the primary metric\n",
    "param_grid = {\n",
    "    'classifier__max_depth': [5, 10, 15],\n",
    "    'classifier__min_samples_split': [2, 5, 10],\n",
    "    'classifier__min_samples_leaf': [1, 2, 4]\n",
    "}\n",
    "\n",
    "# Perform grid search with overal F1 as the scoring metric (choice commented on below)\n",
    "grid_search = GridSearchCV(pipeline, param_grid, scoring=scoring['f1_macro'], cv=5, n_jobs=-1)\n",
    "# grid_search = GridSearchCV(pipeline, param_grid, scoring=scoring['recall_no_appendicitis'], cv=5, n_jobs=-1)\n",
    "\n",
    "# Fit the model using grid search\n",
    "grid_search.fit(X, y)\n",
    "\n",
    "# Get the best estimator and parameters\n",
    "best_model = grid_search.best_estimator_\n",
    "best_params = grid_search.best_params_\n",
    "\n",
    "# Print the best parameters found\n",
    "print(\"Best parameters found for optimising recall of 'no appendicitis':\")\n",
    "print(best_params)\n",
    "print('\\n')\n",
    "\n",
    "# Perform cross-validation with the best model\n",
    "cv = StratifiedKFold(n_splits=5, shuffle=True, random_state=42)\n",
    "cv_results = cross_validate(best_model, X, y, cv=cv, scoring=scoring)\n",
    "\n",
    "# Call predefined fucntion to Display dataframe of results\n",
    "display_cv_scores(cv_results, num_folds=5)\n",
    "\n"
   ]
  },
  {
   "cell_type": "markdown",
   "metadata": {},
   "source": [
    "The key decision in this strategy was what metric to optimise. If purely looking to reduce imbalance in the dataset, then the 'no appendicitis' class Recall metric would be optimised. This was orginally done and it gives a balanced classifier. However, as the use case here is to diagnose a disease, which would be detrimental if left undiagnosed, it would be possibly unwise to not optimise the positive class, appendicitis. Therefore the general F1 score was optimised, with it yielding a high recall for the postiive class."
   ]
  },
  {
   "cell_type": "code",
   "execution_count": 107,
   "metadata": {},
   "outputs": [
    {
     "data": {
      "image/png": "[encoded data removed]",
      "text/plain": [
       "<Figure size 800x500 with 1 Axes>"
      ]
     },
     "metadata": {},
     "output_type": "display_data"
    }
   ],
   "source": [
    "\n",
    "# Decision Tree data\n",
    "f1_scores_tree = {\n",
    "    'Strategy': ['Original', 'Balanced', 'SMOTE Resampling', 'GridSearch'],\n",
    "    'F1 no appendicitis': [0.68, 0.7, 0.71, 0.72],\n",
    "    'Overall F1': [0.74, 0.75, 0.76, 0.78]\n",
    "}\n",
    "\n",
    "# Create DataFrame\n",
    "f1_df_tree = pd.DataFrame(f1_scores_tree)\n",
    "\n",
    "# Plot for Decision Tree\n",
    "fig, ax = plt.subplots(figsize=(8, 5))\n",
    "\n",
    "# Line plots with markers\n",
    "ax.plot(f1_df_tree['Strategy'], f1_df_tree['F1 no appendicitis'], marker='o', label='F1 no appendicitis')\n",
    "ax.plot(f1_df_tree['Strategy'], f1_df_tree['Overall F1'], marker='s', label='Overall F1')\n",
    "\n",
    "# Add labels and title\n",
    "ax.set_ylabel(\"F1 Score\")\n",
    "ax.set_title(\"F1 Scores by Strategy - Decision Tree\")\n",
    "ax.legend()\n",
    "ax.grid(True)\n",
    "\n",
    "plt.xticks(rotation=45)\n",
    "plt.tight_layout()\n",
    "plt.show()\n"
   ]
  },
  {
   "cell_type": "markdown",
   "metadata": {},
   "source": [
    "As seen, the F1 score improves for the underrepresented class through the various strategies, creating a more balanced classifier. Recall has a similar trend, exept for the dip at the end when the overall model is optimised generally."
   ]
  },
  {
   "cell_type": "markdown",
   "metadata": {},
   "source": [
    "# Requirement 3"
   ]
  },
  {
   "cell_type": "markdown",
   "metadata": {},
   "source": [
    "### Knn Classifier Strategies"
   ]
  },
  {
   "cell_type": "markdown",
   "metadata": {},
   "source": [
    "**Strategy 1:** resampling using SMOTE from imbalanced-learn library\n",
    "\n",
    "This strategy applies SMOTE to training set, creating diverse synthetic samples that better capture natural class distributions and reduce overfitting."
   ]
  },
  {
   "cell_type": "code",
   "execution_count": 127,
   "metadata": {},
   "outputs": [
    {
     "name": "stdout",
     "output_type": "stream",
     "text": [
      "F1 and Recall Scores for Each Class and Overall F1 (Macro):\n",
      "   Fold  F1 no appendicitis  Recall no appendicitis  Recall appendicitis  Overall F1 (Macro)\n",
      "      1            0.631579                0.612245             0.794872            0.705727\n",
      "      2            0.600000                0.625000             0.717949            0.668421\n",
      "      3            0.654206                0.729167             0.692308            0.699517\n",
      "      4            0.690265                0.812500             0.666667            0.719233\n",
      "      5            0.742857                0.812500             0.769231            0.779592\n",
      "Average            0.663781                0.718282             0.728205            0.714498\n"
     ]
    }
   ],
   "source": [
    "\n",
    "knn_classifier = KNeighborsClassifier(n_neighbors=5)\n",
    "\n",
    "\n",
    "# Define the pipeline with StandardScaler for scaling, SMOTE for resampling, and KNN for classification\n",
    "pipeline = Pipeline([\n",
    "    ('scaler', StandardScaler()),             \n",
    "    ('smote', SMOTE(random_state=42)),        \n",
    "    ('classifier', knn_classifier)            \n",
    "])\n",
    "\n",
    "# Define stratified k-fold cross-validation\n",
    "cv = StratifiedKFold(n_splits=5, shuffle=True, random_state=42)\n",
    "\n",
    "# Perform stratified cross-validation and calculate F1 and Recall for each class\n",
    "cv_results = cross_validate(pipeline, X, y, cv=cv, scoring=scoring)\n",
    "\n",
    "# Call predefined fucntion to Display dataframe of results\n",
    "display_cv_scores(cv_results, num_folds=5)\n",
    "\n"
   ]
  },
  {
   "cell_type": "markdown",
   "metadata": {},
   "source": [
    "This strategy yielded an increase in performance metrics, mostly effecting the no appendicitis class."
   ]
  },
  {
   "cell_type": "markdown",
   "metadata": {},
   "source": [
    "**Strategy 2:** Random Oversampling"
   ]
  },
  {
   "cell_type": "code",
   "execution_count": 130,
   "metadata": {},
   "outputs": [
    {
     "name": "stdout",
     "output_type": "stream",
     "text": [
      "F1 and Recall Scores for Each Class and Overall F1 (Macro):\n",
      "   Fold  F1 no appendicitis  Recall no appendicitis  Recall appendicitis  Overall F1 (Macro)\n",
      "      1            0.597938                0.591837             0.756410            0.674765\n",
      "      2            0.604167                0.604167             0.756410            0.680288\n",
      "      3            0.699029                0.750000             0.756410            0.745488\n",
      "      4            0.701754                0.833333             0.666667            0.727689\n",
      "      5            0.737864                0.791667             0.782051            0.778328\n",
      "Average            0.668150                0.714201             0.743590            0.721312\n"
     ]
    }
   ],
   "source": [
    "# Define pipeline with RandomOverSampler\n",
    "pipeline_over = Pipeline([\n",
    "    ('scaler', StandardScaler()),               # Step 1: Standard scaling\n",
    "    ('oversample', RandomOverSampler(random_state=42)),  # Step 2: Random Oversampling\n",
    "    ('classifier', knn_classifier)              # Step 3: KNN classifier\n",
    "])\n",
    "\n",
    "# Perform stratified cross-validation and calculate F1 and Recall for each class\n",
    "cv_results_over = cross_validate(pipeline_over, X, y, cv=cv, scoring=scoring)\n",
    "\n",
    "# Display results\n",
    "display_cv_scores(cv_results_over, num_folds=5)"
   ]
  },
  {
   "cell_type": "markdown",
   "metadata": {},
   "source": [
    "The performance gain here was for the 'appendicitis' class Recall (by roughly +2), with no difference to the underrepresented class"
   ]
  },
  {
   "cell_type": "markdown",
   "metadata": {},
   "source": [
    "**Strategy 3:** NearMiss (Undersampling)"
   ]
  },
  {
   "cell_type": "code",
   "execution_count": 131,
   "metadata": {},
   "outputs": [
    {
     "name": "stdout",
     "output_type": "stream",
     "text": [
      "F1 and Recall Scores for Each Class and Overall F1 (Macro):\n",
      "   Fold  F1 no appendicitis  Recall no appendicitis  Recall appendicitis  Overall F1 (Macro)\n",
      "      1            0.631579                0.612245             0.794872            0.705727\n",
      "      2            0.583333                0.583333             0.743590            0.663462\n",
      "      3            0.653061                0.666667             0.769231            0.716141\n",
      "      4            0.711538                0.770833             0.756410            0.754418\n",
      "      5            0.688172                0.666667             0.833333            0.752891\n",
      "Average            0.653537                0.659949             0.779487            0.718528\n"
     ]
    }
   ],
   "source": [
    "\n",
    "# Define pipeline with NearMiss\n",
    "pipeline_nearmiss = Pipeline([\n",
    "    ('scaler', StandardScaler()),                # Step 1: Standard scaling\n",
    "    ('nearmiss', NearMiss()),                    # Step 2: NearMiss Undersampling\n",
    "    ('classifier', knn_classifier)               # Step 3: KNN classifier\n",
    "])\n",
    "\n",
    "# Perform stratified cross-validation and calculate F1 and Recall for each class\n",
    "cv_results_nearmiss = cross_validate(pipeline_nearmiss, X, y, cv=cv, scoring=scoring)\n",
    "\n",
    "# Display results\n",
    "display_cv_scores(cv_results_nearmiss, num_folds=5)\n"
   ]
  },
  {
   "cell_type": "markdown",
   "metadata": {},
   "source": [
    "Here there was a performance increase for appendicitis Recall, but a *decrease* for the no appendicitis class"
   ]
  },
  {
   "cell_type": "markdown",
   "metadata": {},
   "source": [
    "**Strategy 4:** Optimise Classifier with GridSearch"
   ]
  },
  {
   "cell_type": "code",
   "execution_count": 134,
   "metadata": {},
   "outputs": [
    {
     "name": "stdout",
     "output_type": "stream",
     "text": [
      "Best parameters found for optimising F1 score (macro):\n",
      "{'classifier__metric': 'manhattan', 'classifier__n_neighbors': 9, 'classifier__weights': 'uniform'}\n",
      "F1 and Recall Scores for Each Class and Overall F1 (Macro):\n",
      "   Fold  F1 no appendicitis  Recall no appendicitis  Recall appendicitis  Overall F1 (Macro)\n",
      "      1            0.687500                0.673469             0.820513            0.748813\n",
      "      2            0.679612                0.729167             0.743590            0.729068\n",
      "      3            0.699029                0.750000             0.756410            0.745488\n",
      "      4            0.666667                0.770833             0.666667            0.702128\n",
      "      5            0.705882                0.750000             0.769231            0.752941\n",
      "Average            0.687738                0.734694             0.751282            0.735687\n"
     ]
    }
   ],
   "source": [
    "pipeline = Pipeline([\n",
    "    ('scaler', StandardScaler()),           \n",
    "    ('oversample', RandomOverSampler(random_state=42)),\n",
    "    ('classifier', knn_classifier)           \n",
    "])\n",
    "\n",
    "# Define parameter grid for grid search\n",
    "param_grid = {\n",
    "    'classifier__n_neighbors': [3, 5, 7, 9],        # Number of neighbors to consider\n",
    "    'classifier__weights': ['uniform', 'distance'], # Weight function used in prediction\n",
    "    'classifier__metric': ['euclidean', 'manhattan'] # Distance metric to use\n",
    "}\n",
    "\n",
    "# Set up grid search with cross-validation\n",
    "grid_search = GridSearchCV(pipeline, param_grid, scoring=scoring['f1_macro'], cv=StratifiedKFold(n_splits=5, shuffle=True, random_state=42), n_jobs=-1)\n",
    "\n",
    "\n",
    "grid_search.fit(X, y)\n",
    "\n",
    "# Get the best estimator and parameters from the grid search\n",
    "best_model = grid_search.best_estimator_\n",
    "best_params = grid_search.best_params_\n",
    "\n",
    "# Print the best parameters found\n",
    "print(\"Best parameters found for optimising F1 score (macro):\")\n",
    "print(best_params)\n",
    "\n",
    "# Perform cross-validation with the best model and scoring metrics\n",
    "cv_results = cross_validate(best_model, X, y, cv=StratifiedKFold(n_splits=5, shuffle=True, random_state=42), scoring=scoring)\n",
    "\n",
    "# Call predefined fucntion to Display dataframe of results\n",
    "display_cv_scores(cv_results, num_folds=5)"
   ]
  },
  {
   "cell_type": "markdown",
   "metadata": {},
   "source": [
    "Once again. the key decision in this strategy was what metric to optimise. If purely looking to reduce imbalance in the dataset, then the 'no appendicitis' class Recall metric would be optimised. However, as the use case here is to diagnose a disease, which would be detrimental if left undiagnosed, it would be possibly unwise to not optimise the positive class, appendicitis. Therefore the general F1 score was optimised, with it yielding a high recall for the postiive class. The reuslts boosted the classifier's performance, particualry the no appendicitis class"
   ]
  },
  {
   "cell_type": "code",
   "execution_count": 135,
   "metadata": {},
   "outputs": [
    {
     "data": {
      "image/png": "[encoded data removed]",
      "text/plain": [
       "<Figure size 800x500 with 1 Axes>"
      ]
     },
     "metadata": {},
     "output_type": "display_data"
    }
   ],
   "source": [
    "# Decision Tree data\n",
    "f1_scores_knn = {\n",
    "    'Strategy': ['Original', 'SMOTE Resampling', 'Random Oversampling', 'NearMiss sampling','GridSearch w/ Oversampling'],\n",
    "    'F1 no appendicitis': [0.63, 0.66, 0.67, 0.65, 0.68],\n",
    "    'Overall F1': [0.72, 0.714, 0.72, 0.71, 0.73]\n",
    "}\n",
    "\n",
    "# Create DataFrame\n",
    "f1_df_knn = pd.DataFrame(f1_scores_knn)\n",
    "\n",
    "# Plot for Decision Tree\n",
    "fig, ax = plt.subplots(figsize=(8, 5))\n",
    "\n",
    "# Line plots with markers\n",
    "ax.plot(f1_df_knn['Strategy'], f1_df_knn['F1 no appendicitis'], marker='o', label='F1 no appendicitis')\n",
    "ax.plot(f1_df_knn['Strategy'], f1_df_knn['Overall F1'], marker='s', label='Overall F1')\n",
    "\n",
    "# Add labels and title\n",
    "ax.set_ylabel(\"F1 Score\")\n",
    "ax.set_title(\"F1 Scores by Strategy - KNN\")\n",
    "ax.legend()\n",
    "ax.grid(True)\n",
    "\n",
    "plt.xticks(rotation=45)\n",
    "plt.tight_layout()\n",
    "plt.show()"
   ]
  },
  {
   "cell_type": "markdown",
   "metadata": {},
   "source": [
    "As seen, the F1 score improves for the underrepresented class through the various strategies, creating a more balanced classifier."
   ]
  }
 ],
 "metadata": {
  "kernelspec": {
   "display_name": "Python [conda env:base] *",
   "language": "python",
   "name": "conda-base-py"
  },
  "language_info": {
   "codemirror_mode": {
    "name": "ipython",
    "version": 3
   },
   "file_extension": ".py",
   "mimetype": "text/x-python",
   "name": "python",
   "nbconvert_exporter": "python",
   "pygments_lexer": "ipython3",
   "version": "3.11.3"
  }
 },
 "nbformat": 4,
 "nbformat_minor": 4
}
